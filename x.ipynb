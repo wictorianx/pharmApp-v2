{
 "cells": [
  {
   "cell_type": "code",
   "execution_count": 1,
   "metadata": {},
   "outputs": [],
   "source": [
    "import pandas as pd\n",
    "from sklearn.ensemble import RandomForestRegressor\n",
    "from sklearn.model_selection import train_test_split\n"
   ]
  },
  {
   "cell_type": "code",
   "execution_count": 2,
   "metadata": {},
   "outputs": [],
   "source": [
    "sales_data = [[0, 0, 8, 10, 7, 6, 8, 0, 0, 5, 16, 12, 8, 7, 1, 0, 15, 7, 6, 9, 13, 0, 0, 4, 6, 18, 11, 16, 0, 0, 5], [5, 13, 8, 9, 0, 0, 12, 9, 17, 20, 15, 0, 0, 11, 17, 14, 16, 4, 1, 0, 25, 6, 17, 15, 10, 2, 0, 13], [11, 22, 14, 9, 1, 0, 13, 23, 14, 13, 7, 2, 0, 12, 11, 8, 1, 5, 0, 0, 4, 4, 4, 3, 9, 0, 0, 4, 19, 11, 4], [14, 2, 0, 6, 16, 4, 11, 16, 0, 13, 8, 9, 4, 9, 5, 2, 0, 11, 12, 4, 5, 5, 0, 0, 11, 6, 12, 12, 10, 3], [0, 0, 0, 0, 12, 8, 1, 0, 12, 13, 18, 10, 7, 0, 0, 24, 9, 12, 0, 10, 2, 0, 14, 14, 14, 4, 5, 0, 0, 7, 5], [10, 4, 10, 0, 0, 8, 7, 5, 1, 6, 0, 0, 16, 3, 16, 12, 9, 3, 0, 8, 6, 2, 3, 6, 1, 0, 5, 7, 10, 3], [12, 2, 0, 3, 7, 7, 4, 4, 0, 0, 0, 0, 0, 0, 0, 0, 0, 2, 3, 4, 14, 1, 0, 0, 8, 0, 0, 6], [7, 2, 3, 1, 7, 0, 0, 7, 5, 0, 9, 4, 0, 0, 1, 7, 8, 6, 3, 0, 0, 4, 10, 5, 4, 5, 2, 0, 5, 0, 7], [12, 9, 4, 0, 16, 8, 7, 5, 16, 1, 0, 2, 12, 11, 11, 7, 1, 0, 5, 9, 20, 11, 14, 1, 0, 14, 9, 6, 9, 15], [1, 0, 8, 11, 14, 12, 13, 1, 0, 13, 12, 4, 15, 7, 1, 0, 10, 7, 8, 6, 8, 0, 0, 9, 12, 2, 12, 1, 0, 0, 15], [6, 12, 6, 7, 0, 0, 8, 15, 13, 6, 1, 0, 0, 8, 8, 3, 9, 15, 0, 0, 16, 7, 11, 4, 6, 0, 0, 11, 10, 6], [10, 21, 10, 0, 13, 6, 13, 7, 12, 0, 0, 12, 16, 13, 4, 12, 1, 0, 13, 4, 10, 13, 21, 2, 0, 16, 10, 12, 13, 4]]"
   ]
  },
  {
   "cell_type": "code",
   "execution_count": 3,
   "metadata": {},
   "outputs": [
    {
     "ename": "ValueError",
     "evalue": "Length mismatch: Expected axis has 12 elements, new values have 31 elements",
     "output_type": "error",
     "traceback": [
      "\u001b[0;31m---------------------------------------------------------------------------\u001b[0m",
      "\u001b[0;31mValueError\u001b[0m                                Traceback (most recent call last)",
      "Cell \u001b[0;32mIn[3], line 4\u001b[0m\n\u001b[1;32m      2\u001b[0m sales_df \u001b[39m=\u001b[39m pd\u001b[39m.\u001b[39mDataFrame(sales_data)\n\u001b[1;32m      3\u001b[0m sales_df \u001b[39m=\u001b[39m sales_df\u001b[39m.\u001b[39mT \u001b[39m# transpose the dataframe to have months as rows and days as columns\u001b[39;00m\n\u001b[0;32m----> 4\u001b[0m sales_df\u001b[39m.\u001b[39;49mcolumns \u001b[39m=\u001b[39m [\u001b[39mf\u001b[39m\u001b[39m\"\u001b[39m\u001b[39mday_\u001b[39m\u001b[39m{\u001b[39;00mi\u001b[39m}\u001b[39;00m\u001b[39m\"\u001b[39m \u001b[39mfor\u001b[39;00m i \u001b[39min\u001b[39;00m \u001b[39mrange\u001b[39m(\u001b[39m1\u001b[39m, \u001b[39m32\u001b[39m)] \u001b[39m# add column names\u001b[39;00m\n\u001b[1;32m      5\u001b[0m sales_df\u001b[39m.\u001b[39mindex \u001b[39m=\u001b[39m pd\u001b[39m.\u001b[39mdate_range(start\u001b[39m=\u001b[39m\u001b[39m\"\u001b[39m\u001b[39m2022-01-01\u001b[39m\u001b[39m\"\u001b[39m, end\u001b[39m=\u001b[39m\u001b[39m\"\u001b[39m\u001b[39m2022-12-01\u001b[39m\u001b[39m\"\u001b[39m, freq\u001b[39m=\u001b[39m\u001b[39m\"\u001b[39m\u001b[39mMS\u001b[39m\u001b[39m\"\u001b[39m) \u001b[39m# add month names as index\u001b[39;00m\n",
      "File \u001b[0;32m/Library/Frameworks/Python.framework/Versions/3.11/lib/python3.11/site-packages/pandas/core/generic.py:5915\u001b[0m, in \u001b[0;36mNDFrame.__setattr__\u001b[0;34m(self, name, value)\u001b[0m\n\u001b[1;32m   5913\u001b[0m \u001b[39mtry\u001b[39;00m:\n\u001b[1;32m   5914\u001b[0m     \u001b[39mobject\u001b[39m\u001b[39m.\u001b[39m\u001b[39m__getattribute__\u001b[39m(\u001b[39mself\u001b[39m, name)\n\u001b[0;32m-> 5915\u001b[0m     \u001b[39mreturn\u001b[39;00m \u001b[39mobject\u001b[39;49m\u001b[39m.\u001b[39;49m\u001b[39m__setattr__\u001b[39;49m(\u001b[39mself\u001b[39;49m, name, value)\n\u001b[1;32m   5916\u001b[0m \u001b[39mexcept\u001b[39;00m \u001b[39mAttributeError\u001b[39;00m:\n\u001b[1;32m   5917\u001b[0m     \u001b[39mpass\u001b[39;00m\n",
      "File \u001b[0;32m/Library/Frameworks/Python.framework/Versions/3.11/lib/python3.11/site-packages/pandas/_libs/properties.pyx:69\u001b[0m, in \u001b[0;36mpandas._libs.properties.AxisProperty.__set__\u001b[0;34m()\u001b[0m\n",
      "File \u001b[0;32m/Library/Frameworks/Python.framework/Versions/3.11/lib/python3.11/site-packages/pandas/core/generic.py:823\u001b[0m, in \u001b[0;36mNDFrame._set_axis\u001b[0;34m(self, axis, labels)\u001b[0m\n\u001b[1;32m    821\u001b[0m \u001b[39mdef\u001b[39;00m \u001b[39m_set_axis\u001b[39m(\u001b[39mself\u001b[39m, axis: \u001b[39mint\u001b[39m, labels: AnyArrayLike \u001b[39m|\u001b[39m \u001b[39mlist\u001b[39m) \u001b[39m-\u001b[39m\u001b[39m>\u001b[39m \u001b[39mNone\u001b[39;00m:\n\u001b[1;32m    822\u001b[0m     labels \u001b[39m=\u001b[39m ensure_index(labels)\n\u001b[0;32m--> 823\u001b[0m     \u001b[39mself\u001b[39;49m\u001b[39m.\u001b[39;49m_mgr\u001b[39m.\u001b[39;49mset_axis(axis, labels)\n\u001b[1;32m    824\u001b[0m     \u001b[39mself\u001b[39m\u001b[39m.\u001b[39m_clear_item_cache()\n",
      "File \u001b[0;32m/Library/Frameworks/Python.framework/Versions/3.11/lib/python3.11/site-packages/pandas/core/internals/managers.py:230\u001b[0m, in \u001b[0;36mBaseBlockManager.set_axis\u001b[0;34m(self, axis, new_labels)\u001b[0m\n\u001b[1;32m    228\u001b[0m \u001b[39mdef\u001b[39;00m \u001b[39mset_axis\u001b[39m(\u001b[39mself\u001b[39m, axis: \u001b[39mint\u001b[39m, new_labels: Index) \u001b[39m-\u001b[39m\u001b[39m>\u001b[39m \u001b[39mNone\u001b[39;00m:\n\u001b[1;32m    229\u001b[0m     \u001b[39m# Caller is responsible for ensuring we have an Index object.\u001b[39;00m\n\u001b[0;32m--> 230\u001b[0m     \u001b[39mself\u001b[39;49m\u001b[39m.\u001b[39;49m_validate_set_axis(axis, new_labels)\n\u001b[1;32m    231\u001b[0m     \u001b[39mself\u001b[39m\u001b[39m.\u001b[39maxes[axis] \u001b[39m=\u001b[39m new_labels\n",
      "File \u001b[0;32m/Library/Frameworks/Python.framework/Versions/3.11/lib/python3.11/site-packages/pandas/core/internals/base.py:70\u001b[0m, in \u001b[0;36mDataManager._validate_set_axis\u001b[0;34m(self, axis, new_labels)\u001b[0m\n\u001b[1;32m     67\u001b[0m     \u001b[39mpass\u001b[39;00m\n\u001b[1;32m     69\u001b[0m \u001b[39melif\u001b[39;00m new_len \u001b[39m!=\u001b[39m old_len:\n\u001b[0;32m---> 70\u001b[0m     \u001b[39mraise\u001b[39;00m \u001b[39mValueError\u001b[39;00m(\n\u001b[1;32m     71\u001b[0m         \u001b[39mf\u001b[39m\u001b[39m\"\u001b[39m\u001b[39mLength mismatch: Expected axis has \u001b[39m\u001b[39m{\u001b[39;00mold_len\u001b[39m}\u001b[39;00m\u001b[39m elements, new \u001b[39m\u001b[39m\"\u001b[39m\n\u001b[1;32m     72\u001b[0m         \u001b[39mf\u001b[39m\u001b[39m\"\u001b[39m\u001b[39mvalues have \u001b[39m\u001b[39m{\u001b[39;00mnew_len\u001b[39m}\u001b[39;00m\u001b[39m elements\u001b[39m\u001b[39m\"\u001b[39m\n\u001b[1;32m     73\u001b[0m     )\n",
      "\u001b[0;31mValueError\u001b[0m: Length mismatch: Expected axis has 12 elements, new values have 31 elements"
     ]
    }
   ],
   "source": [
    "# assuming the data is in a variable called 'sales_data'\n",
    "sales_df = pd.DataFrame(sales_data)\n",
    "sales_df = sales_df.T # transpose the dataframe to have months as rows and days as columns\n",
    "sales_df.columns = [f\"day_{i}\" for i in range(1, 32)] # add column names\n",
    "sales_df.index = pd.date_range(start=\"2022-01-01\", end=\"2022-12-01\", freq=\"MS\") # add month names as index\n"
   ]
  },
  {
   "cell_type": "code",
   "execution_count": null,
   "metadata": {},
   "outputs": [],
   "source": [
    "X = sales_df.iloc[:, :-1] # features: all days except the last day\n",
    "y = sales_df.iloc[:, -1] # target: last day of each month\n"
   ]
  },
  {
   "cell_type": "code",
   "execution_count": null,
   "metadata": {},
   "outputs": [],
   "source": [
    "X_train, X_test, y_train, y_test = train_test_split(X, y, test_size=0.2, random_state=42)\n"
   ]
  },
  {
   "cell_type": "code",
   "execution_count": null,
   "metadata": {},
   "outputs": [],
   "source": [
    "rf = RandomForestRegressor(n_estimators=100, random_state=42)\n",
    "rf.fit(X_train, y_train)\n"
   ]
  },
  {
   "cell_type": "code",
   "execution_count": null,
   "metadata": {},
   "outputs": [],
   "source": [
    "y_pred = rf.predict(X_test)\n",
    "score = rf.score(X_test, y_test)\n",
    "print(f\"R-squared score: {score:.2f}\")\n"
   ]
  },
  {
   "cell_type": "code",
   "execution_count": null,
   "metadata": {},
   "outputs": [],
   "source": [
    "# assuming 'last_month_sales' is an array containing the sales data for the last month\n",
    "next_month_features = pd.DataFrame([last_month_sales]).iloc[:, :-1] # get all days except the last day\n",
    "next_month_sales_pred = rf.predict(next_month_features)\n",
    "print(f\"Predicted sales for next month: {next_month_sales_pred[0]:.2f}\")\n"
   ]
  }
 ],
 "metadata": {
  "kernelspec": {
   "display_name": "Python 3",
   "language": "python",
   "name": "python3"
  },
  "language_info": {
   "codemirror_mode": {
    "name": "ipython",
    "version": 3
   },
   "file_extension": ".py",
   "mimetype": "text/x-python",
   "name": "python",
   "nbconvert_exporter": "python",
   "pygments_lexer": "ipython3",
   "version": "3.11.0"
  },
  "orig_nbformat": 4,
  "vscode": {
   "interpreter": {
    "hash": "aee8b7b246df8f9039afb4144a1f6fd8d2ca17a180786b69acc140d282b71a49"
   }
  }
 },
 "nbformat": 4,
 "nbformat_minor": 2
}
